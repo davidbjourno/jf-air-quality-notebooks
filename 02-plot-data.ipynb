{
 "cells": [
  {
   "cell_type": "code",
   "execution_count": null,
   "metadata": {},
   "outputs": [],
   "source": [
    "import pandas as pd\n",
    "import altair as alt\n",
    "\n",
    "alt.data_transformers.enable('data_server_proxied')"
   ]
  },
  {
   "cell_type": "markdown",
   "metadata": {},
   "source": [
    "## Load data from `.csv`"
   ]
  },
  {
   "cell_type": "code",
   "execution_count": null,
   "metadata": {},
   "outputs": [],
   "source": [
    "df = pd.read_csv(\"data/processed/pms5003.csv\", parse_dates=[1]).assign(\n",
    "    day=lambda df: df[\"time\"].dt.strftime(\"%A, %B %d\"),\n",
    "    week=lambda df: df[\"time\"].dt.week,\n",
    ")\n",
    "\n",
    "df.info()\n",
    "df.head()"
   ]
  },
  {
   "cell_type": "markdown",
   "metadata": {},
   "source": [
    "## Set parameters\n",
    "\n",
    "1. Choose a week for which you wish to plot minute-by-minute data (faceted by day) where it says `Choose week`\n",
    "2. Choose the readings you want to plot (as separate lines) where it says `Choose readings`"
   ]
  },
  {
   "cell_type": "code",
   "execution_count": null,
   "metadata": {},
   "outputs": [],
   "source": [
    "plot_week = 17 # Choose week >= 16\n",
    "plot_series = [  # Choose readings\n",
    "    \"gt_0_3um\",\n",
    "    \"gt_0_5um\",\n",
    "    \"gt_1um\",\n",
    "    \"gt_2_5um\",\n",
    "    \"gt_5um\",\n",
    "    \"gt_10um\",\n",
    "]"
   ]
  },
  {
   "cell_type": "markdown",
   "metadata": {},
   "source": [
    "## Plot time series"
   ]
  },
  {
   "cell_type": "code",
   "execution_count": null,
   "metadata": {},
   "outputs": [],
   "source": [
    "alt.Chart(\n",
    "    df.query(\"week == @plot_week & unit in @plot_series\"),\n",
    "    title=f\"Week {plot_week} 2020\",\n",
    ").mark_line().encode(\n",
    "    x=alt.X(\"time:T\", title=None),\n",
    "    y=\"reading:Q\",\n",
    "    color=\"unit:N\",\n",
    "    facet=alt.Facet(\"day:N\", columns=2, title=None, sort=alt.SortField(\"time\")),\n",
    ").resolve_scale(\n",
    "    x=\"independent\"\n",
    ")"
   ]
  }
 ],
 "metadata": {
  "kernelspec": {
   "display_name": "Python 3",
   "language": "python",
   "name": "python3"
  },
  "language_info": {
   "codemirror_mode": {
    "name": "ipython",
    "version": 3
   },
   "file_extension": ".py",
   "mimetype": "text/x-python",
   "name": "python",
   "nbconvert_exporter": "python",
   "pygments_lexer": "ipython3",
   "version": "3.6.7"
  }
 },
 "nbformat": 4,
 "nbformat_minor": 4
}
