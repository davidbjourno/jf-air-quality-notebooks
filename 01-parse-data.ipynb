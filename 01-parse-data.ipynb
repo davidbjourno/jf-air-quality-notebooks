{
 "cells": [
  {
   "cell_type": "code",
   "execution_count": null,
   "metadata": {},
   "outputs": [],
   "source": [
    "import pandas as pd"
   ]
  },
  {
   "cell_type": "code",
   "execution_count": null,
   "metadata": {},
   "outputs": [],
   "source": [
    "path = \"data/raw\"\n",
    "csvs = sorted(\n",
    "    [f\"{path}/{filename}\" for filename in os.listdir(path) if filename[-4:] == \".csv\"]\n",
    ")\n",
    "\n",
    "csvs"
   ]
  },
  {
   "cell_type": "code",
   "execution_count": null,
   "metadata": {},
   "outputs": [],
   "source": [
    "df = (\n",
    "    pd.concat(\n",
    "        pd.read_csv(\n",
    "            csv,\n",
    "            sep=\" \",\n",
    "            header=None,\n",
    "            usecols=[0, *range(0, 13)],\n",
    "            names=[\n",
    "                \"time\",\n",
    "                \"pm1_ultrafine\",\n",
    "                \"pm2_5_combustion\",\n",
    "                \"pm10_dust\",\n",
    "                \"pm1_atmos\",\n",
    "                \"pm2_5_atmos\",\n",
    "                \"pm10_atmos\",\n",
    "                \"gt_0_3um\",\n",
    "                \"gt_0_5um\",\n",
    "                \"gt_1um\",\n",
    "                \"gt_2_5um\",\n",
    "                \"gt_5um\",\n",
    "                \"gt_10um\",\n",
    "            ],\n",
    "            parse_dates=[0],\n",
    "        )\n",
    "        for csv in csvs\n",
    "    )\n",
    "    .melt(id_vars=\"time\", var_name=\"unit\", value_name=\"reading\")\n",
    "    .set_index(\"time\")\n",
    "    .sort_index()\n",
    "    .groupby(\"unit\")[\"reading\"]  # Resample to one-minute intervals\n",
    "    .resample(\"1min\")\n",
    "    .mean()\n",
    "    .reset_index()\n",
    ")\n",
    "\n",
    "df.info()\n",
    "df.head()"
   ]
  },
  {
   "cell_type": "code",
   "execution_count": null,
   "metadata": {},
   "outputs": [],
   "source": [
    "df.to_csv(\"data/processed/pms5003.csv\", index=False)"
   ]
  }
 ],
 "metadata": {
  "kernelspec": {
   "display_name": "Python 3",
   "language": "python",
   "name": "python3"
  },
  "language_info": {
   "codemirror_mode": {
    "name": "ipython",
    "version": 3
   },
   "file_extension": ".py",
   "mimetype": "text/x-python",
   "name": "python",
   "nbconvert_exporter": "python",
   "pygments_lexer": "ipython3",
   "version": "3.6.7"
  }
 },
 "nbformat": 4,
 "nbformat_minor": 4
}
